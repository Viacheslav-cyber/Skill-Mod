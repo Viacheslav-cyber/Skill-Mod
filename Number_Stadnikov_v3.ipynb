{
 "cells": [
  {
   "cell_type": "code",
   "execution_count": 1,
   "metadata": {},
   "outputs": [],
   "source": [
    "import numpy as np\n",
    "import random\n",
    "\n",
    "#This program contains a function that counts the number of attempts \n",
    "#when searching for a number hidden by the program (a number from 1 to 100). \n",
    "#The program receives the user number as input, and then searches by dividing the range by two.\n",
    "\n",
    "def Game_score(number):\n",
    "    count = 1\n",
    "    predict = np.random.randint(1,101) # expected number\n",
    "    upper_limit = 100\n",
    "    lower_limit = 1\n",
    "    \n",
    "    while number != predict:\n",
    "        count += 1           # attempt counter adding in each loop searching\n",
    "        if number > predict:\n",
    "            upper_limit = number # limiting the upper search limit if the 'number' is greater  than the 'predict'.\n",
    "        elif number < predict:\n",
    "            lower_limit = number # limiting the lower search limit if the number is less than the specified one.\n",
    "        number = lower_limit + (upper_limit - lower_limit) // 2 # calculating the mean value in the search range\n",
    "    return(count) # exit the loop if guessed right"
   ]
  },
  {
   "cell_type": "code",
   "execution_count": 2,
   "metadata": {},
   "outputs": [
    {
     "data": {
      "text/plain": [
       "5"
      ]
     },
     "execution_count": 2,
     "metadata": {},
     "output_type": "execute_result"
    }
   ],
   "source": [
    "Game_score(66)"
   ]
  },
  {
   "cell_type": "code",
   "execution_count": null,
   "metadata": {},
   "outputs": [],
   "source": []
  },
  {
   "cell_type": "code",
   "execution_count": null,
   "metadata": {},
   "outputs": [],
   "source": []
  },
  {
   "cell_type": "code",
   "execution_count": null,
   "metadata": {},
   "outputs": [],
   "source": []
  }
 ],
 "metadata": {
  "kernelspec": {
   "display_name": "Python 3",
   "language": "python",
   "name": "python3"
  },
  "language_info": {
   "codemirror_mode": {
    "name": "ipython",
    "version": 3
   },
   "file_extension": ".py",
   "mimetype": "text/x-python",
   "name": "python",
   "nbconvert_exporter": "python",
   "pygments_lexer": "ipython3",
   "version": "3.8.5"
  }
 },
 "nbformat": 4,
 "nbformat_minor": 4
}
